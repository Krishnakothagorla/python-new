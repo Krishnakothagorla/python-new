{
  "nbformat": 4,
  "nbformat_minor": 0,
  "metadata": {
    "colab": {
      "name": "MODULE 5.ipynb",
      "provenance": [],
      "collapsed_sections": [],
      "authorship_tag": "ABX9TyOLYeAEysYzluULU6IjcxE+",
      "include_colab_link": true
    },
    "kernelspec": {
      "name": "python3",
      "display_name": "Python 3"
    },
    "language_info": {
      "name": "python"
    }
  },
  "cells": [
    {
      "cell_type": "markdown",
      "metadata": {
        "id": "view-in-github",
        "colab_type": "text"
      },
      "source": [
        "<a href=\"https://colab.research.google.com/github/Krishnakothagorla/python-new/blob/module-5/MODULE_5.ipynb\" target=\"_parent\"><img src=\"https://colab.research.google.com/assets/colab-badge.svg\" alt=\"Open In Colab\"/></a>"
      ]
    },
    {
      "cell_type": "code",
      "execution_count": null,
      "metadata": {
        "colab": {
          "base_uri": "https://localhost:8080/"
        },
        "id": "j5V4NN--JjJ_",
        "outputId": "881ad5b7-3ab9-4d7f-a4b4-5b5b460d8447"
      },
      "outputs": [
        {
          "output_type": "stream",
          "name": "stdout",
          "text": [
            "<re.Match object; span=(0, 7), match='My name'>\n"
          ]
        }
      ],
      "source": [
        "import re\n",
        "txt = \"My name is chinni\"\n",
        "x = re.search(\"My name\",txt)\n",
        "print(x)"
      ]
    },
    {
      "cell_type": "code",
      "source": [
        "import re\n",
        "txt = \"My name is chinni\"\n",
        "x = re.search(\"My name\",txt)\n",
        "if x:\n",
        "  print(\"yes,its a match\")\n",
        "else:\n",
        "  print(\"no\")"
      ],
      "metadata": {
        "colab": {
          "base_uri": "https://localhost:8080/"
        },
        "id": "F14oVkbHNleF",
        "outputId": "5786b3b1-3ed1-47ad-9024-ef855dc94d7a"
      },
      "execution_count": null,
      "outputs": [
        {
          "output_type": "stream",
          "name": "stdout",
          "text": [
            "yes,its a match\n"
          ]
        }
      ]
    },
    {
      "cell_type": "markdown",
      "source": [
        "##findall\n"
      ],
      "metadata": {
        "id": "7T9Cs3NhMcQH"
      }
    },
    {
      "cell_type": "code",
      "source": [
        "import re\n",
        "txt = \"My name is chinni\"\n",
        "x = re.findall(\"i\",txt)\n",
        "print(x)\n"
      ],
      "metadata": {
        "colab": {
          "base_uri": "https://localhost:8080/"
        },
        "id": "ewfQ-flzL-Wl",
        "outputId": "4664ca37-dff0-48f4-ac15-d4a4f2f1cb04"
      },
      "execution_count": null,
      "outputs": [
        {
          "output_type": "stream",
          "name": "stdout",
          "text": [
            "['i', 'i', 'i']\n"
          ]
        }
      ]
    },
    {
      "cell_type": "markdown",
      "source": [
        "##findall using if"
      ],
      "metadata": {
        "id": "Mi1cRQbt3YsE"
      }
    },
    {
      "cell_type": "code",
      "source": [
        "import re\n",
        "txt = \"My name is chinni Iam from guntur\"\n",
        "x = re.findall(\"My guntur\",txt)\n",
        "if x:\n",
        "  print(\"Yes its a match\")\n",
        "else:\n",
        "  print(\"no\")"
      ],
      "metadata": {
        "colab": {
          "base_uri": "https://localhost:8080/"
        },
        "id": "Fj1KUMhTNYgG",
        "outputId": "07d0c100-eed8-4125-cbdd-83c7f99c9c14"
      },
      "execution_count": null,
      "outputs": [
        {
          "output_type": "stream",
          "name": "stdout",
          "text": [
            "no\n"
          ]
        }
      ]
    },
    {
      "cell_type": "markdown",
      "source": [
        "##Re.search using if\n"
      ],
      "metadata": {
        "id": "PqDpngEl25gD"
      }
    },
    {
      "cell_type": "code",
      "source": [
        "import re\n",
        "txt = \"The Times of India is an Indian English-language daily newspaper and digital news media owned and managed by The Times Group. It is the third-largest newspaper in India by circulation and largest selling English-language daily in the world\"\n",
        "x = re.search(\"daily\",txt)\n",
        "if x:\n",
        "  print(\"Yes its a match\")\n",
        "else:\n",
        "  print(\"no\")"
      ],
      "metadata": {
        "colab": {
          "base_uri": "https://localhost:8080/"
        },
        "id": "J0sTDH_MNkGN",
        "outputId": "f11b79a6-bee1-4a59-cbeb-52338a7993bc"
      },
      "execution_count": null,
      "outputs": [
        {
          "output_type": "stream",
          "name": "stdout",
          "text": [
            "Yes its a match\n"
          ]
        }
      ]
    },
    {
      "cell_type": "markdown",
      "source": [
        "##split"
      ],
      "metadata": {
        "id": "OW4BQtKBVBjY"
      }
    },
    {
      "cell_type": "code",
      "source": [
        "import re\n",
        "\n",
        "txt = \"The rain in vizag lead to floods\"\n",
        "x = re.split(\"\\s\", txt)\n",
        "print(x)\n"
      ],
      "metadata": {
        "colab": {
          "base_uri": "https://localhost:8080/"
        },
        "id": "1pJ2Mgm62P68",
        "outputId": "3fdb51e9-8ba9-4903-d833-a591a55a809e"
      },
      "execution_count": null,
      "outputs": [
        {
          "output_type": "stream",
          "name": "stdout",
          "text": [
            "['The', 'rain', 'in', 'vizag', 'lead', 'to', 'floods']\n"
          ]
        }
      ]
    },
    {
      "cell_type": "markdown",
      "source": [
        "##Split the string only at the first occurrence"
      ],
      "metadata": {
        "id": "c7w2RvE_3fCV"
      }
    },
    {
      "cell_type": "code",
      "source": [
        "import re\n",
        "\n",
        "txt = \"The rain in vizag lead to floods\"\n",
        "x = re.split(\"\\s\", txt, 3)\n",
        "print(x)\n"
      ],
      "metadata": {
        "colab": {
          "base_uri": "https://localhost:8080/"
        },
        "id": "TLcyo6vo3lWs",
        "outputId": "ac7e0af1-f55d-49f0-e61a-6815eb5bed85"
      },
      "execution_count": null,
      "outputs": [
        {
          "output_type": "stream",
          "name": "stdout",
          "text": [
            "['The', 'rain', 'in', 'vizag lead to floods']\n"
          ]
        }
      ]
    },
    {
      "cell_type": "markdown",
      "source": [
        "##Write a Python program to check that a string contains only a certain set of characters (in this case a-z, A-Z and 0-9)."
      ],
      "metadata": {
        "id": "O8uRN-TBzXl6"
      }
    },
    {
      "cell_type": "code",
      "source": [
        "import re\n",
        "h=\"Myself hemakesh\"\n",
        "v=re.findall(\"[a-zA-Z0-9]\",h)\n",
        "if v:\n",
        "   print(\"yes\")\n",
        "else:\n",
        "   print(\"no\")"
      ],
      "metadata": {
        "colab": {
          "base_uri": "https://localhost:8080/"
        },
        "id": "zaKtGifl0Cdr",
        "outputId": "8818fcd6-360b-4aac-b140-d408bb84b6cb"
      },
      "execution_count": 5,
      "outputs": [
        {
          "output_type": "stream",
          "name": "stdout",
          "text": [
            "yes\n"
          ]
        }
      ]
    },
    {
      "cell_type": "markdown",
      "source": [
        "##Write a Python program that matches a string that has an a followed by zero or more b's"
      ],
      "metadata": {
        "id": "xd5TvRsl0E5Z"
      }
    },
    {
      "cell_type": "code",
      "source": [
        "import re\n",
        "h=\"pubg\"\n",
        "v=re.search(\"p*b\",h)\n",
        "if v:\n",
        "    print(\"Matching\")\n",
        "else:\n",
        "    print(\"Not Matching\")"
      ],
      "metadata": {
        "colab": {
          "base_uri": "https://localhost:8080/"
        },
        "id": "NSrjgbvz0HCZ",
        "outputId": "32b5a7aa-9d60-4d55-e64d-2d4048c9ae35"
      },
      "execution_count": 6,
      "outputs": [
        {
          "output_type": "stream",
          "name": "stdout",
          "text": [
            "Matching\n"
          ]
        }
      ]
    },
    {
      "cell_type": "markdown",
      "source": [
        "##Write a Python program that matches a string that has an a followed by one or more b's"
      ],
      "metadata": {
        "id": "EOCpTZTs0eIy"
      }
    },
    {
      "cell_type": "code",
      "source": [
        "import re\n",
        "h=\"hbo\"\n",
        "v=re.search(\"h+b\",h)\n",
        "if v:\n",
        "    print(\"Matching\")\n",
        "else:\n",
        "    print(\"Not Matching\")"
      ],
      "metadata": {
        "colab": {
          "base_uri": "https://localhost:8080/"
        },
        "id": "9NLJnA3G0g3h",
        "outputId": "e97c69ba-aad1-4815-dcd5-dd0a428e7c7f"
      },
      "execution_count": 7,
      "outputs": [
        {
          "output_type": "stream",
          "name": "stdout",
          "text": [
            "Matching\n"
          ]
        }
      ]
    },
    {
      "cell_type": "markdown",
      "source": [
        "##Write a Python program that matches a string that has an a followed by zero or one 'b'"
      ],
      "metadata": {
        "id": "DSSWfAQn01E6"
      }
    },
    {
      "cell_type": "code",
      "source": [
        "import re\n",
        "h=\"hbo\"\n",
        "v=re.search(\"h?b\",h)\n",
        "if v:\n",
        "   print(\"Matching\")\n",
        "else:\n",
        "   print(\"Not Matching\")"
      ],
      "metadata": {
        "colab": {
          "base_uri": "https://localhost:8080/"
        },
        "id": "_e2BBt9L04va",
        "outputId": "1a6b0f59-0302-450b-a339-3a483f7c4634"
      },
      "execution_count": 8,
      "outputs": [
        {
          "output_type": "stream",
          "name": "stdout",
          "text": [
            "Matching\n"
          ]
        }
      ]
    },
    {
      "cell_type": "markdown",
      "source": [
        "##Write a Python program that matches a string that has an a followed by three 'b'"
      ],
      "metadata": {
        "id": "-obuOkRo05Ja"
      }
    },
    {
      "cell_type": "code",
      "source": [
        "import re\n",
        "h=\"hhhb\"\n",
        "v=re.search(\"h{3}b\",h)\n",
        "if v:\n",
        "   print(\"Yes\")\n",
        "else:\n",
        "   print(\"No\")"
      ],
      "metadata": {
        "colab": {
          "base_uri": "https://localhost:8080/"
        },
        "id": "8QwuSWUw07_R",
        "outputId": "b4a9528b-2354-43be-f522-4a74ad1d87b5"
      },
      "execution_count": 9,
      "outputs": [
        {
          "output_type": "stream",
          "name": "stdout",
          "text": [
            "Yes\n"
          ]
        }
      ]
    },
    {
      "cell_type": "markdown",
      "source": [
        "##Write a Python program to find sequences of lowercase letters joined with an underscore"
      ],
      "metadata": {
        "id": "FeYJGisf08Oh"
      }
    },
    {
      "cell_type": "code",
      "source": [
        "import re\n",
        "def hk(h):\n",
        "         v = '^[a-z]+_[a-z]+$'\n",
        "         if re.search(v,h):\n",
        "           return 'Found a match'\n",
        "           else:\n",
        "             return 'Not matched'\n",
        "print(hk(\"abbo_abbo\"))\n",
        "print(hk(\"jai_pubg\"))\n",
        "print(hk(\"Jai_Babu\")) "
      ],
      "metadata": {
        "colab": {
          "base_uri": "https://localhost:8080/",
          "height": 130
        },
        "id": "Rs4agtFy0_Jx",
        "outputId": "bed3766d-68b6-4462-f9fc-bfea2277461b"
      },
      "execution_count": 17,
      "outputs": [
        {
          "output_type": "error",
          "ename": "SyntaxError",
          "evalue": "ignored",
          "traceback": [
            "\u001b[0;36m  File \u001b[0;32m\"<ipython-input-17-f8836ae41c0d>\"\u001b[0;36m, line \u001b[0;32m6\u001b[0m\n\u001b[0;31m    else:\u001b[0m\n\u001b[0m       ^\u001b[0m\n\u001b[0;31mSyntaxError\u001b[0m\u001b[0;31m:\u001b[0m invalid syntax\n"
          ]
        }
      ]
    }
  ]
}